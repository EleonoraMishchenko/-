{
 "cells": [
  {
   "cell_type": "markdown",
   "id": "54f578f3-52cb-4a24-aa90-abf969c80b68",
   "metadata": {},
   "source": [
    "Датасет содержит данные по продажам видеоигр за некоторый период времени (вошли игры, продажи которых превышают 100 000 копий).\n",
    "\n",
    "Источник: https://www.kaggle.com/datasets/gregorut/videogamesales.\n",
    "\n",
    "Описание колонок:\n",
    "\n",
    "`Rank` - Общий рейтинг продаж\n",
    "\n",
    "`Name` - Название игры\n",
    "\n",
    "`Platform` - Платформа, на которой выпущена игра (например, PC, PS4 и т.д.)\n",
    "\n",
    "`Year` - Год выпуска игры\n",
    "\n",
    "`Genre` - Жанр игры\n",
    "\n",
    "`Publisher` - Издатель игры\n",
    "\n",
    "`NA_Sales` - Продажи в Северной Америке (в миллионах)\n",
    "\n",
    "`EU_Sales` - Продажи в Европе (в миллионах)\n",
    "\n",
    "`JP_Sales` - Продажи в Японии (в миллионах)\n",
    "\n",
    "`Other_Sales` - Продажи в остальном мире (в миллионах)\n",
    "\n",
    "`Global_Sales` - Общемировые продажи."
   ]
  },
  {
   "cell_type": "code",
   "execution_count": 2,
   "id": "59bc965d-2d42-4fcd-9da9-2a12724b65ed",
   "metadata": {},
   "outputs": [
    {
     "data": {
      "text/html": [
       "<div>\n",
       "<style scoped>\n",
       "    .dataframe tbody tr th:only-of-type {\n",
       "        vertical-align: middle;\n",
       "    }\n",
       "\n",
       "    .dataframe tbody tr th {\n",
       "        vertical-align: top;\n",
       "    }\n",
       "\n",
       "    .dataframe thead th {\n",
       "        text-align: right;\n",
       "    }\n",
       "</style>\n",
       "<table border=\"1\" class=\"dataframe\">\n",
       "  <thead>\n",
       "    <tr style=\"text-align: right;\">\n",
       "      <th></th>\n",
       "      <th>Rank</th>\n",
       "      <th>Name</th>\n",
       "      <th>Platform</th>\n",
       "      <th>Year</th>\n",
       "      <th>Genre</th>\n",
       "      <th>Publisher</th>\n",
       "      <th>NA_Sales</th>\n",
       "      <th>EU_Sales</th>\n",
       "      <th>JP_Sales</th>\n",
       "      <th>Other_Sales</th>\n",
       "      <th>Global_Sales</th>\n",
       "    </tr>\n",
       "  </thead>\n",
       "  <tbody>\n",
       "    <tr>\n",
       "      <th>0</th>\n",
       "      <td>1</td>\n",
       "      <td>Wii Sports</td>\n",
       "      <td>Wii</td>\n",
       "      <td>2006.0</td>\n",
       "      <td>Sports</td>\n",
       "      <td>Nintendo</td>\n",
       "      <td>41.49</td>\n",
       "      <td>29.02</td>\n",
       "      <td>3.77</td>\n",
       "      <td>8.46</td>\n",
       "      <td>82.74</td>\n",
       "    </tr>\n",
       "    <tr>\n",
       "      <th>1</th>\n",
       "      <td>2</td>\n",
       "      <td>Super Mario Bros.</td>\n",
       "      <td>NES</td>\n",
       "      <td>1985.0</td>\n",
       "      <td>Platform</td>\n",
       "      <td>Nintendo</td>\n",
       "      <td>29.08</td>\n",
       "      <td>3.58</td>\n",
       "      <td>6.81</td>\n",
       "      <td>0.77</td>\n",
       "      <td>40.24</td>\n",
       "    </tr>\n",
       "    <tr>\n",
       "      <th>2</th>\n",
       "      <td>3</td>\n",
       "      <td>Mario Kart Wii</td>\n",
       "      <td>Wii</td>\n",
       "      <td>2008.0</td>\n",
       "      <td>Racing</td>\n",
       "      <td>Nintendo</td>\n",
       "      <td>15.85</td>\n",
       "      <td>12.88</td>\n",
       "      <td>3.79</td>\n",
       "      <td>3.31</td>\n",
       "      <td>35.82</td>\n",
       "    </tr>\n",
       "    <tr>\n",
       "      <th>3</th>\n",
       "      <td>4</td>\n",
       "      <td>Wii Sports Resort</td>\n",
       "      <td>Wii</td>\n",
       "      <td>2009.0</td>\n",
       "      <td>Sports</td>\n",
       "      <td>Nintendo</td>\n",
       "      <td>15.75</td>\n",
       "      <td>11.01</td>\n",
       "      <td>3.28</td>\n",
       "      <td>2.96</td>\n",
       "      <td>33.00</td>\n",
       "    </tr>\n",
       "    <tr>\n",
       "      <th>4</th>\n",
       "      <td>5</td>\n",
       "      <td>Pokemon Red/Pokemon Blue</td>\n",
       "      <td>GB</td>\n",
       "      <td>1996.0</td>\n",
       "      <td>Role-Playing</td>\n",
       "      <td>Nintendo</td>\n",
       "      <td>11.27</td>\n",
       "      <td>8.89</td>\n",
       "      <td>10.22</td>\n",
       "      <td>1.00</td>\n",
       "      <td>31.37</td>\n",
       "    </tr>\n",
       "  </tbody>\n",
       "</table>\n",
       "</div>"
      ],
      "text/plain": [
       "   Rank                      Name Platform    Year         Genre Publisher  \\\n",
       "0     1                Wii Sports      Wii  2006.0        Sports  Nintendo   \n",
       "1     2         Super Mario Bros.      NES  1985.0      Platform  Nintendo   \n",
       "2     3            Mario Kart Wii      Wii  2008.0        Racing  Nintendo   \n",
       "3     4         Wii Sports Resort      Wii  2009.0        Sports  Nintendo   \n",
       "4     5  Pokemon Red/Pokemon Blue       GB  1996.0  Role-Playing  Nintendo   \n",
       "\n",
       "   NA_Sales  EU_Sales  JP_Sales  Other_Sales  Global_Sales  \n",
       "0     41.49     29.02      3.77         8.46         82.74  \n",
       "1     29.08      3.58      6.81         0.77         40.24  \n",
       "2     15.85     12.88      3.79         3.31         35.82  \n",
       "3     15.75     11.01      3.28         2.96         33.00  \n",
       "4     11.27      8.89     10.22         1.00         31.37  "
      ]
     },
     "execution_count": 2,
     "metadata": {},
     "output_type": "execute_result"
    }
   ],
   "source": [
    "import pandas as pd\n",
    "\n",
    "# загрузим датасет\n",
    "df = pd.read_csv('vgsales.csv')  \n",
    "\n",
    "# после того датасет корректно загрузился, можно посмотреть на данные глазами\n",
    "df.head()"
   ]
  },
  {
   "cell_type": "markdown",
   "id": "f93e6f75-3421-43a7-bdd2-3f3ee5d4e1e3",
   "metadata": {},
   "source": [
    "### Дальше идут вопросы по датасету, на которые найдем ответ, используя функционал библиотеки Pandas."
   ]
  },
  {
   "cell_type": "code",
   "execution_count": 3,
   "id": "ef0b9aee-1db7-4568-9d5e-24bb19bae980",
   "metadata": {},
   "outputs": [
    {
     "name": "stdout",
     "output_type": "stream",
     "text": [
      "<class 'pandas.core.frame.DataFrame'>\n",
      "RangeIndex: 16598 entries, 0 to 16597\n",
      "Data columns (total 11 columns):\n",
      " #   Column        Non-Null Count  Dtype  \n",
      "---  ------        --------------  -----  \n",
      " 0   Rank          16598 non-null  int64  \n",
      " 1   Name          16598 non-null  object \n",
      " 2   Platform      16598 non-null  object \n",
      " 3   Year          16327 non-null  float64\n",
      " 4   Genre         16598 non-null  object \n",
      " 5   Publisher     16540 non-null  object \n",
      " 6   NA_Sales      16598 non-null  float64\n",
      " 7   EU_Sales      16598 non-null  float64\n",
      " 8   JP_Sales      16598 non-null  float64\n",
      " 9   Other_Sales   16598 non-null  float64\n",
      " 10  Global_Sales  16598 non-null  float64\n",
      "dtypes: float64(6), int64(1), object(4)\n",
      "memory usage: 1.4+ MB\n"
     ]
    }
   ],
   "source": [
    "#прежде всего - ознакомимся с датасетом\n",
    "df.info()"
   ]
  },
  {
   "cell_type": "markdown",
   "id": "c5eec9a7-28cc-4a97-bc84-8758858cf446",
   "metadata": {},
   "source": [
    "`Таким образом, null значения присутствуют только в столбцах Year и Publisher. \n",
    "С учетом характера вопросов, мне кажется, необязательно удалять из датасета строки с null значениями.\n",
    "Но все же просчитаем ответы для df с null значениями и без таковых.`"
   ]
  },
  {
   "cell_type": "code",
   "execution_count": 224,
   "id": "0d34c959-8dea-4620-a443-f571bd4037c6",
   "metadata": {},
   "outputs": [
    {
     "data": {
      "text/html": [
       "<div>\n",
       "<style scoped>\n",
       "    .dataframe tbody tr th:only-of-type {\n",
       "        vertical-align: middle;\n",
       "    }\n",
       "\n",
       "    .dataframe tbody tr th {\n",
       "        vertical-align: top;\n",
       "    }\n",
       "\n",
       "    .dataframe thead th {\n",
       "        text-align: right;\n",
       "    }\n",
       "</style>\n",
       "<table border=\"1\" class=\"dataframe\">\n",
       "  <thead>\n",
       "    <tr style=\"text-align: right;\">\n",
       "      <th></th>\n",
       "      <th>Rank</th>\n",
       "      <th>Year</th>\n",
       "      <th>NA_Sales</th>\n",
       "      <th>EU_Sales</th>\n",
       "      <th>JP_Sales</th>\n",
       "      <th>Other_Sales</th>\n",
       "      <th>Global_Sales</th>\n",
       "    </tr>\n",
       "  </thead>\n",
       "  <tbody>\n",
       "    <tr>\n",
       "      <th>count</th>\n",
       "      <td>16598.000000</td>\n",
       "      <td>16327.000000</td>\n",
       "      <td>16598.000000</td>\n",
       "      <td>16598.000000</td>\n",
       "      <td>16598.000000</td>\n",
       "      <td>16598.000000</td>\n",
       "      <td>16598.000000</td>\n",
       "    </tr>\n",
       "    <tr>\n",
       "      <th>mean</th>\n",
       "      <td>8300.605254</td>\n",
       "      <td>2006.406443</td>\n",
       "      <td>0.264667</td>\n",
       "      <td>0.146652</td>\n",
       "      <td>0.077782</td>\n",
       "      <td>0.048063</td>\n",
       "      <td>0.537441</td>\n",
       "    </tr>\n",
       "    <tr>\n",
       "      <th>std</th>\n",
       "      <td>4791.853933</td>\n",
       "      <td>5.828981</td>\n",
       "      <td>0.816683</td>\n",
       "      <td>0.505351</td>\n",
       "      <td>0.309291</td>\n",
       "      <td>0.188588</td>\n",
       "      <td>1.555028</td>\n",
       "    </tr>\n",
       "    <tr>\n",
       "      <th>min</th>\n",
       "      <td>1.000000</td>\n",
       "      <td>1980.000000</td>\n",
       "      <td>0.000000</td>\n",
       "      <td>0.000000</td>\n",
       "      <td>0.000000</td>\n",
       "      <td>0.000000</td>\n",
       "      <td>0.010000</td>\n",
       "    </tr>\n",
       "    <tr>\n",
       "      <th>25%</th>\n",
       "      <td>4151.250000</td>\n",
       "      <td>2003.000000</td>\n",
       "      <td>0.000000</td>\n",
       "      <td>0.000000</td>\n",
       "      <td>0.000000</td>\n",
       "      <td>0.000000</td>\n",
       "      <td>0.060000</td>\n",
       "    </tr>\n",
       "    <tr>\n",
       "      <th>50%</th>\n",
       "      <td>8300.500000</td>\n",
       "      <td>2007.000000</td>\n",
       "      <td>0.080000</td>\n",
       "      <td>0.020000</td>\n",
       "      <td>0.000000</td>\n",
       "      <td>0.010000</td>\n",
       "      <td>0.170000</td>\n",
       "    </tr>\n",
       "    <tr>\n",
       "      <th>75%</th>\n",
       "      <td>12449.750000</td>\n",
       "      <td>2010.000000</td>\n",
       "      <td>0.240000</td>\n",
       "      <td>0.110000</td>\n",
       "      <td>0.040000</td>\n",
       "      <td>0.040000</td>\n",
       "      <td>0.470000</td>\n",
       "    </tr>\n",
       "    <tr>\n",
       "      <th>max</th>\n",
       "      <td>16600.000000</td>\n",
       "      <td>2020.000000</td>\n",
       "      <td>41.490000</td>\n",
       "      <td>29.020000</td>\n",
       "      <td>10.220000</td>\n",
       "      <td>10.570000</td>\n",
       "      <td>82.740000</td>\n",
       "    </tr>\n",
       "  </tbody>\n",
       "</table>\n",
       "</div>"
      ],
      "text/plain": [
       "               Rank          Year      NA_Sales      EU_Sales      JP_Sales  \\\n",
       "count  16598.000000  16327.000000  16598.000000  16598.000000  16598.000000   \n",
       "mean    8300.605254   2006.406443      0.264667      0.146652      0.077782   \n",
       "std     4791.853933      5.828981      0.816683      0.505351      0.309291   \n",
       "min        1.000000   1980.000000      0.000000      0.000000      0.000000   \n",
       "25%     4151.250000   2003.000000      0.000000      0.000000      0.000000   \n",
       "50%     8300.500000   2007.000000      0.080000      0.020000      0.000000   \n",
       "75%    12449.750000   2010.000000      0.240000      0.110000      0.040000   \n",
       "max    16600.000000   2020.000000     41.490000     29.020000     10.220000   \n",
       "\n",
       "        Other_Sales  Global_Sales  \n",
       "count  16598.000000  16598.000000  \n",
       "mean       0.048063      0.537441  \n",
       "std        0.188588      1.555028  \n",
       "min        0.000000      0.010000  \n",
       "25%        0.000000      0.060000  \n",
       "50%        0.010000      0.170000  \n",
       "75%        0.040000      0.470000  \n",
       "max       10.570000     82.740000  "
      ]
     },
     "execution_count": 224,
     "metadata": {},
     "output_type": "execute_result"
    }
   ],
   "source": [
    "df.describe()"
   ]
  },
  {
   "cell_type": "markdown",
   "id": "a71de13a-bf5f-48d5-8e9d-18332a5835b9",
   "metadata": {},
   "source": [
    "## Вопрос 1: Количество уникальных игр в датасете."
   ]
  },
  {
   "cell_type": "code",
   "execution_count": 3,
   "id": "d43ca067-8dba-47ce-a52c-a0a866438ce8",
   "metadata": {},
   "outputs": [
    {
     "data": {
      "text/plain": [
       "11493"
      ]
     },
     "execution_count": 3,
     "metadata": {},
     "output_type": "execute_result"
    }
   ],
   "source": [
    "unique_name = df['Name'].nunique()\n",
    "unique_name\n",
    "\n",
    "#ответ на вопрос: 11493"
   ]
  },
  {
   "cell_type": "markdown",
   "id": "fa8025a5-b6bb-4eec-92cd-a341b583e46f",
   "metadata": {},
   "source": [
    "## Вопрос 2: Какова общая величина продаж игр в Японии?"
   ]
  },
  {
   "cell_type": "code",
   "execution_count": 4,
   "id": "04440e2c-65cb-4ded-abd8-0b695fc68811",
   "metadata": {},
   "outputs": [
    {
     "data": {
      "text/plain": [
       "1291.0200000000002"
      ]
     },
     "execution_count": 4,
     "metadata": {},
     "output_type": "execute_result"
    }
   ],
   "source": [
    "sum_jp_sales = df['JP_Sales'].sum()\n",
    "sum_jp_sales_round = df['JP_Sales'].sum().round()\n",
    "sum_jp_sales\n",
    "\n",
    "#ответ на вопрос: 1291.0200000000002 или округленно 1291."
   ]
  },
  {
   "cell_type": "markdown",
   "id": "a2262e1d-9b80-4ac0-852c-9bb0d567bff0",
   "metadata": {},
   "source": [
    "## Вопрос 3: Какие три жанра игр самые популярные в Северной Америке (по количеству продаж)? "
   ]
  },
  {
   "cell_type": "code",
   "execution_count": 5,
   "id": "8b9e27f2-98d2-40c6-95ab-1d9a8e1a082f",
   "metadata": {},
   "outputs": [
    {
     "data": {
      "text/plain": [
       "Genre\n",
       "Action     877.83\n",
       "Sports     683.35\n",
       "Shooter    582.60\n",
       "Name: NA_Sales, dtype: float64"
      ]
     },
     "execution_count": 5,
     "metadata": {},
     "output_type": "execute_result"
    }
   ],
   "source": [
    "genre_in_NA = df.groupby('Genre')['NA_Sales'].sum()\n",
    "genre_in_NA\n",
    "genre_in_NA.sort_values(ascending=False)[:3]\n",
    "\n",
    "#ответ на вопрос: Action, Sports, Shooter"
   ]
  },
  {
   "cell_type": "markdown",
   "id": "4b880d2e-3b2a-4516-a11b-3fac6649519c",
   "metadata": {},
   "source": [
    "## Вопрос 4: Какая платформа была самой популярной (по количеству выпущенных игр) в 2000 году? А в 2015?"
   ]
  },
  {
   "cell_type": "code",
   "execution_count": 6,
   "id": "8d4ce573-99fe-401d-9514-7f3b44823417",
   "metadata": {},
   "outputs": [
    {
     "name": "stdout",
     "output_type": "stream",
     "text": [
      "Platform\n",
      "PS    159\n",
      "dtype: int64 Platform\n",
      "PS4    137\n",
      "dtype: int64\n"
     ]
    }
   ],
   "source": [
    "#вариант 1:\n",
    "df_00 = df.loc[df[\"Year\"] == 2000]\n",
    "grouped_df_00 = df_00.groupby('Platform').size().sort_values(ascending=False)[:1]\n",
    "df_15 = df.loc[df[\"Year\"] == 2015]\n",
    "grouped_df_15 = df_15.groupby('Platform').size().sort_values(ascending=False)[:1]\n",
    "\n",
    "#вариант 2:\n",
    "df_00_1 = df_00['Platform'].value_counts()[:1]\n",
    "df_15_1 = df_15['Platform'].value_counts()[:1]\n",
    "\n",
    "#вариант 3:\n",
    "df_00_2 = df.loc[df[\"Year\"] == 2000].groupby('Platform').size().sort_values(ascending=False)[:1]\n",
    "df_15_2 = df.loc[df[\"Year\"] == 2015].groupby('Platform').size().sort_values(ascending=False)[:1]\n",
    "\n",
    "print(grouped_df_00, grouped_df_15)\n",
    "\n",
    "#ответ на вопрос: в 2000 году - PS, в 2015 - PS4."
   ]
  },
  {
   "cell_type": "markdown",
   "id": "8793a5ae-b540-4cc3-b45b-154f43215a10",
   "metadata": {},
   "source": [
    "## Вопрос 5: Какой издатель выпустил больше всего игр в период 2012-2015 оба конца включительно?"
   ]
  },
  {
   "cell_type": "code",
   "execution_count": 7,
   "id": "5ee597b8-819c-4e8d-a101-2ddd971cd5fe",
   "metadata": {},
   "outputs": [
    {
     "data": {
      "text/plain": [
       "Publisher\n",
       "Namco Bandai Games                        285\n",
       "Activision                                161\n",
       "Electronic Arts                           156\n",
       "Ubisoft                                   137\n",
       "Nintendo                                  106\n",
       "Warner Bros. Interactive Entertainment    103\n",
       "Tecmo Koei                                 91\n",
       "Konami Digital Entertainment               78\n",
       "Take-Two Interactive                       76\n",
       "Sega                                       75\n",
       "Name: count, dtype: int64"
      ]
     },
     "execution_count": 7,
     "metadata": {},
     "output_type": "execute_result"
    }
   ],
   "source": [
    "new_df = df.copy()\n",
    "years_to_find = [2012, 2013, 2014, 2015]\n",
    "df_1215 = new_df.loc[new_df[\"Year\"].isin(years_to_find)]\n",
    "publishers_in_df_1215 = df_1215['Publisher'].value_counts()\n",
    "publishers_in_df_1215.head(10)\n",
    "\n",
    "#ответ на вопрос: Namco Bandai Games."
   ]
  },
  {
   "cell_type": "markdown",
   "id": "d86e2a2b-f244-4e56-996c-457909f910ef",
   "metadata": {},
   "source": [
    "## Вопрос 6: Какой процент игр в жанре спорт был продан в Европе?"
   ]
  },
  {
   "cell_type": "code",
   "execution_count": 8,
   "id": "d4dcc386-d377-434d-9270-d24a061f233b",
   "metadata": {},
   "outputs": [
    {
     "data": {
      "text/plain": [
       "28.314787404296244"
      ]
     },
     "execution_count": 8,
     "metadata": {},
     "output_type": "execute_result"
    }
   ],
   "source": [
    "df_sports = df[df.Genre == 'Sports']\n",
    "sport_game_in_EU = (df_sports['EU_Sales'].sum() / df_sports['Global_Sales'].sum() * 100)\n",
    "sport_game_in_EU_round = (df_sports['EU_Sales'].sum() / df_sports['Global_Sales'].sum() * 100).round()\n",
    "sport_game_in_EU\n",
    "\n",
    "#ответ на вопрос: 28.314787404296244% или округленно 28%"
   ]
  },
  {
   "cell_type": "markdown",
   "id": "0664121b-de9a-4223-b57b-92f652715db0",
   "metadata": {},
   "source": [
    "## Теперь выполним аналогичные расчеты для датасета без null-значений."
   ]
  },
  {
   "cell_type": "code",
   "execution_count": 23,
   "id": "0bcf2f3a-1a02-47aa-8e02-60c614c1d2ab",
   "metadata": {},
   "outputs": [],
   "source": [
    "df_clean = df.copy()"
   ]
  },
  {
   "cell_type": "code",
   "execution_count": 24,
   "id": "4aeb52f8-0216-49d1-bacc-584332ec5835",
   "metadata": {},
   "outputs": [
    {
     "name": "stdout",
     "output_type": "stream",
     "text": [
      "Before .dropna(): (16598, 11)\n",
      "After .dropna(): (16291, 11)\n"
     ]
    }
   ],
   "source": [
    "print(f'Before .dropna(): {df_clean.shape}')\n",
    "df_clean = df_clean.dropna()\n",
    "print(f'After .dropna(): {df_clean.shape}')"
   ]
  },
  {
   "cell_type": "markdown",
   "id": "964d1c91-92ba-40bf-a8a1-465a9a4671ee",
   "metadata": {},
   "source": [
    "## Задание 1:"
   ]
  },
  {
   "cell_type": "code",
   "execution_count": 256,
   "id": "bc9691a0-449a-4cf6-81a8-7349bbe86b84",
   "metadata": {},
   "outputs": [
    {
     "data": {
      "text/plain": [
       "11325"
      ]
     },
     "execution_count": 256,
     "metadata": {},
     "output_type": "execute_result"
    }
   ],
   "source": [
    "unique_name = df_clean['Name'].nunique()\n",
    "unique_name\n",
    "\n",
    "#ответ на вопрос: 11325"
   ]
  },
  {
   "cell_type": "markdown",
   "id": "fd23a694-f546-4a0a-9f5a-b403e960aa9b",
   "metadata": {},
   "source": [
    "## Задание 2:"
   ]
  },
  {
   "cell_type": "code",
   "execution_count": 274,
   "id": "5f0ead30-b35a-48f2-acb9-533507c067de",
   "metadata": {},
   "outputs": [
    {
     "data": {
      "text/plain": [
       "1284.2700000000002"
      ]
     },
     "execution_count": 274,
     "metadata": {},
     "output_type": "execute_result"
    }
   ],
   "source": [
    "sum_jp_sales = df_clean['JP_Sales'].sum()\n",
    "sum_jp_sales_round = df_clean['JP_Sales'].sum().round()\n",
    "sum_jp_sales\n",
    "\n",
    "#ответ на вопрос: 1284.2700000000002 или округленно 1284."
   ]
  },
  {
   "cell_type": "markdown",
   "id": "bf423592-a82f-46ca-88c4-d594d8034c22",
   "metadata": {},
   "source": [
    "## Задание 3:"
   ]
  },
  {
   "cell_type": "code",
   "execution_count": 26,
   "id": "2e7a6822-6e49-4063-a478-7bfa558cd034",
   "metadata": {},
   "outputs": [
    {
     "data": {
      "text/plain": [
       "Genre\n",
       "Action     861.77\n",
       "Sports     670.09\n",
       "Shooter    575.16\n",
       "Name: NA_Sales, dtype: float64"
      ]
     },
     "execution_count": 26,
     "metadata": {},
     "output_type": "execute_result"
    }
   ],
   "source": [
    "genre_in_NA = df_clean.groupby('Genre')['NA_Sales'].sum()\n",
    "genre_in_NA\n",
    "genre_in_NA.sort_values(ascending=False)[:3]\n",
    "\n",
    "#ответ на вопрос: Action, Sports, Shooter"
   ]
  },
  {
   "cell_type": "markdown",
   "id": "b0135970-56e6-4d13-b6c1-2f5cf95c521c",
   "metadata": {},
   "source": [
    "## Задание 4:"
   ]
  },
  {
   "cell_type": "code",
   "execution_count": 30,
   "id": "018d97cd-5b0c-421d-81bb-0147b3bf46be",
   "metadata": {},
   "outputs": [],
   "source": [
    "df_00 = df_clean.loc[df_clean[\"Year\"] == 2000]\n",
    "grouped_df_00 = df_00.groupby('Platform').size().sort_values(ascending=False)[:1]\n",
    "df_15 = df_clean.loc[df_clean[\"Year\"] == 2015]\n",
    "grouped_df_15 = df_15.groupby('Platform').size().sort_values(ascending=False)[:1]\n",
    "\n",
    "#ответ на вопрос: в 2000 году - PS, в 2015 - PS4."
   ]
  },
  {
   "cell_type": "markdown",
   "id": "d7bc01f3-d163-4dcd-a204-760a18bf825d",
   "metadata": {},
   "source": [
    "## Задание 5:"
   ]
  },
  {
   "cell_type": "code",
   "execution_count": 264,
   "id": "7320083c-da31-4721-b759-cc2efda072d5",
   "metadata": {},
   "outputs": [
    {
     "data": {
      "text/plain": [
       "Publisher\n",
       "Namco Bandai Games                        285\n",
       "Activision                                161\n",
       "Electronic Arts                           156\n",
       "Ubisoft                                   137\n",
       "Nintendo                                  106\n",
       "Warner Bros. Interactive Entertainment    103\n",
       "Tecmo Koei                                 91\n",
       "Konami Digital Entertainment               78\n",
       "Take-Two Interactive                       76\n",
       "Sega                                       75\n",
       "Name: count, dtype: int64"
      ]
     },
     "execution_count": 264,
     "metadata": {},
     "output_type": "execute_result"
    }
   ],
   "source": [
    "new_df = df_clean.copy()\n",
    "years_to_find = [2012, 2013, 2014, 2015]\n",
    "df_1215 = new_df.loc[new_df[\"Year\"].isin(years_to_find)]\n",
    "publishers_in_df_1215 = df_1215['Publisher'].value_counts()\n",
    "publishers_in_df_1215.head(10)\n",
    "\n",
    "#ответ на вопрос: Namco Bandai Games."
   ]
  },
  {
   "cell_type": "markdown",
   "id": "03d2e559-51dc-4889-b005-1ff5c1103a6e",
   "metadata": {},
   "source": [
    "## Задание 6:"
   ]
  },
  {
   "cell_type": "code",
   "execution_count": 263,
   "id": "fea712b6-0081-47b5-9288-14cf77e49bc9",
   "metadata": {},
   "outputs": [
    {
     "data": {
      "text/plain": [
       "28.363019767193176"
      ]
     },
     "execution_count": 263,
     "metadata": {},
     "output_type": "execute_result"
    }
   ],
   "source": [
    "df_sports = df_clean[df_clean.Genre == 'Sports']\n",
    "sport_game_in_EU = (df_sports['EU_Sales'].sum() / df_sports['Global_Sales'].sum() * 100)\n",
    "sport_game_in_EU_round = (df_sports['EU_Sales'].sum() / df_sports['Global_Sales'].sum() * 100).round()\n",
    "sport_game_in_EU\n",
    "\n",
    "#ответ на вопрос: 28.363019767193176% или округленно 28%"
   ]
  }
 ],
 "metadata": {
  "kernelspec": {
   "display_name": "Python 3 (ipykernel)",
   "language": "python",
   "name": "python3"
  },
  "language_info": {
   "codemirror_mode": {
    "name": "ipython",
    "version": 3
   },
   "file_extension": ".py",
   "mimetype": "text/x-python",
   "name": "python",
   "nbconvert_exporter": "python",
   "pygments_lexer": "ipython3",
   "version": "3.12.0"
  }
 },
 "nbformat": 4,
 "nbformat_minor": 5
}
